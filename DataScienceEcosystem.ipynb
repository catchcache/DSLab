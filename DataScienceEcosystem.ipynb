{
 "cells": [
  {
   "cell_type": "markdown",
   "id": "19edb9b3-93ee-40d1-a6a8-2841422db457",
   "metadata": {},
   "source": [
    "# Data Science Tools and Ecosystem"
   ]
  },
  {
   "cell_type": "markdown",
   "id": "e99d79d2-a196-49dc-b3a4-cf6bbc1c44eb",
   "metadata": {},
   "source": [
    "In this notebook, Data Science Tools and Ecosystem are summarized."
   ]
  },
  {
   "cell_type": "markdown",
   "id": "7fd8469c-9bba-4134-a10e-f490f101e1da",
   "metadata": {},
   "source": [
    " **Objectives**:\n",
    " - Popular languages in Data Science\n",
    " - Commonly used Data Science libraries\n",
    " - Development tools used by Data Scientists\n",
    " - Examples of basic arithmetic in Python"
   ]
  },
  {
   "cell_type": "markdown",
   "id": "76add9f8-89f3-4a68-95c1-2d91c9ec1443",
   "metadata": {},
   "source": [
    "Some of the popular languages that Data Scientists use are:\n",
    "1. Python\n",
    "2. R\n",
    "3. SQL\n",
    "4. C++\n",
    "5. Java\n",
    "6. Julia"
   ]
  },
  {
   "cell_type": "markdown",
   "id": "8e46068f-b8f8-485a-b69a-3b8dd46d7116",
   "metadata": {},
   "source": [
    "Some of the commonly used libraries used by Data Scientists include:\n",
    "1. NumPy\n",
    "2. Pandas\n",
    "3. Matplotlib\n",
    "4. TensorFlow\n",
    "5. PyTorch\n",
    "6. Scikit-learn"
   ]
  },
  {
   "cell_type": "markdown",
   "id": "37b9659e-ab33-40dd-8839-37ab6f80933c",
   "metadata": {},
   "source": [
    "|  Data Science Tools |\n",
    "| :-------------------: |\n",
    "| Jupyter |\n",
    "| RStudio |\n",
    "| Apache Zeppelin |"
   ]
  },
  {
   "cell_type": "markdown",
   "id": "e3c059c4-b9e9-4a0e-83d4-a72f0edc553d",
   "metadata": {},
   "source": [
    "### Below are a few examples of evaluating arithmetic expressions in Python."
   ]
  },
  {
   "cell_type": "code",
   "execution_count": 3,
   "id": "8f7c4205-589e-4477-bd50-de633d9417e0",
   "metadata": {},
   "outputs": [
    {
     "data": {
      "text/plain": [
       "17"
      ]
     },
     "execution_count": 3,
     "metadata": {},
     "output_type": "execute_result"
    }
   ],
   "source": [
    "# This expression multiplies 3 by 4 and then adds 5 to the result\n",
    "(3 * 4) + 5"
   ]
  },
  {
   "cell_type": "code",
   "execution_count": 4,
   "id": "b5409566-0d4f-4404-bd45-73df1206a93e",
   "metadata": {},
   "outputs": [
    {
     "data": {
      "text/plain": [
       "3.3333333333333335"
      ]
     },
     "execution_count": 4,
     "metadata": {},
     "output_type": "execute_result"
    }
   ],
   "source": [
    "# This expression will convert 200 minutes to hours \n",
    "200 / 60"
   ]
  },
  {
   "cell_type": "markdown",
   "id": "029e81a3-1b38-4354-aaa0-ddc65ce0b33a",
   "metadata": {},
   "source": [
    "## Author\n",
    "Jigot LAHINIRIKO CISNEROS"
   ]
  },
  {
   "cell_type": "code",
   "execution_count": null,
   "id": "a8805162-9b65-4c3d-a19d-0c329ebfd1af",
   "metadata": {},
   "outputs": [],
   "source": []
  }
 ],
 "metadata": {
  "kernelspec": {
   "display_name": "Python 3.12 (condapy312env)",
   "language": "python",
   "name": "condapy312env"
  },
  "language_info": {
   "codemirror_mode": {
    "name": "ipython",
    "version": 3
   },
   "file_extension": ".py",
   "mimetype": "text/x-python",
   "name": "python",
   "nbconvert_exporter": "python",
   "pygments_lexer": "ipython3",
   "version": "3.12.9"
  }
 },
 "nbformat": 4,
 "nbformat_minor": 5
}
